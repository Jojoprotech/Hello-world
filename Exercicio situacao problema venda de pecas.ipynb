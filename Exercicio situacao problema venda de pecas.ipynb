{
  "nbformat": 4,
  "nbformat_minor": 0,
  "metadata": {
    "colab": {
      "name": "Untitled0.ipynb",
      "provenance": [],
      "authorship_tag": "ABX9TyPLsHn4/vC0eQtyELae0DNt",
      "include_colab_link": true
    },
    "kernelspec": {
      "name": "python3",
      "display_name": "Python 3"
    },
    "language_info": {
      "name": "python"
    }
  },
  "cells": [
    {
      "cell_type": "markdown",
      "metadata": {
        "id": "view-in-github",
        "colab_type": "text"
      },
      "source": [
        "<a href=\"https://colab.research.google.com/github/Jojoprotech/Hello-world/blob/main/Exercicio%20situacao%20problema%20venda%20de%20pecas.ipynb\" target=\"_parent\"><img src=\"https://colab.research.google.com/assets/colab-badge.svg\" alt=\"Open In Colab\"/></a>"
      ]
    },
    {
      "cell_type": "code",
      "execution_count": 3,
      "metadata": {
        "colab": {
          "base_uri": "https://localhost:8080/"
        },
        "id": "QgVvgJL9Xrax",
        "outputId": "e64fe255-3d95-454f-e8d3-e90a225d4684"
      },
      "outputs": [
        {
          "output_type": "stream",
          "name": "stdout",
          "text": [
            "Digite o mês que deseja saber o resultado: 12\n",
            "A quantidade de peças para o mes 12 será 2400\n"
          ]
        }
      ],
      "source": [
        "c = 200\n",
        "mes = input (\"Digite o mês que deseja saber o resultado: \")\n",
        "\n",
        "mes = int(mes)\n",
        "\n",
        "resultado = c * mes\n",
        "\n",
        "print(f\"A quantidade de peças para o mes {mes} será {resultado}\")\n"
      ]
    }
  ]
}