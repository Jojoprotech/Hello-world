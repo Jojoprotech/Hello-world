{
  "nbformat": 4,
  "nbformat_minor": 0,
  "metadata": {
    "colab": {
      "name": "python1Ampli.ipynb",
      "provenance": [],
      "authorship_tag": "ABX9TyN2tRryYP0tJj61B26Al4xe",
      "include_colab_link": true
    },
    "kernelspec": {
      "name": "python3",
      "display_name": "Python 3"
    },
    "language_info": {
      "name": "python"
    }
  },
  "cells": [
    {
      "cell_type": "markdown",
      "metadata": {
        "id": "view-in-github",
        "colab_type": "text"
      },
      "source": [
        "<a href=\"https://colab.research.google.com/github/Jojoprotech/Hello-world/blob/main/python1Ampli.ipynb\" target=\"_parent\"><img src=\"https://colab.research.google.com/assets/colab-badge.svg\" alt=\"Open In Colab\"/></a>"
      ]
    },
    {
      "cell_type": "code",
      "execution_count": 9,
      "metadata": {
        "colab": {
          "base_uri": "https://localhost:8080/"
        },
        "id": "V-okh1W_FUGy",
        "outputId": "a1b1c601-39da-46fe-9120-a4c9a8de05db"
      },
      "outputs": [
        {
          "output_type": "stream",
          "name": "stdout",
          "text": [
            "Digite o valor de x: 3\n",
            "O resultado de y para x = 3.0 é 20.5.\n"
          ]
        }
      ],
      "source": [
        "a = 2\n",
        "b = 0.5\n",
        "c = 1\n",
        "\n",
        "x = input (\"Digite o valor de x: \")\n",
        "\n",
        "x = float(x)\n",
        "\n",
        "y = a * x ** 2 + b * x + c\n",
        "\n",
        "print(f\"O resultado de y para x = {x} é {y}.\")"
      ]
    }
  ]
}